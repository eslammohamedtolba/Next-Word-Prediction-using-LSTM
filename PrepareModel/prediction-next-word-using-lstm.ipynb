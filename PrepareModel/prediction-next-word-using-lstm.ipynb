{
 "cells": [
  {
   "cell_type": "markdown",
   "id": "c14391f1",
   "metadata": {
    "papermill": {
     "duration": 0.008107,
     "end_time": "2024-08-18T14:00:45.814561",
     "exception": false,
     "start_time": "2024-08-18T14:00:45.806454",
     "status": "completed"
    },
    "tags": []
   },
   "source": [
    "# Next Word Prediction using LSTM\n",
    "\n",
    "This project demonstrates the implementation of a next word prediction model using Long Short-Term Memory (LSTM) networks. \n",
    "The model is trained on a text corpus, tokenized and processed to predict the next word based on a given input sequence of words. \n",
    "The project includes data preprocessing, model training, and prediction steps, and showcases the usage of techniques such as tokenization, \n",
    "embedding layers, and LSTM layers. The model is capable of generating contextually relevant words in a sequence, providing a foundation \n",
    "for applications like autocomplete, text generation, and language modeling.\n",
    "\n",
    "Key Highlights:\n",
    "- Data preprocessing including tokenization and padding sequences\n",
    "- Building and training an LSTM-based neural network model\n",
    "- Implementing callbacks to save the best model during training\n",
    "- Predicting the next word in a sequence using the trained model"
   ]
  },
  {
   "cell_type": "code",
   "execution_count": 1,
   "id": "19b8809e",
   "metadata": {
    "_kg_hide-output": true,
    "execution": {
     "iopub.execute_input": "2024-08-18T14:00:45.831295Z",
     "iopub.status.busy": "2024-08-18T14:00:45.830978Z",
     "iopub.status.idle": "2024-08-18T14:00:59.371635Z",
     "shell.execute_reply": "2024-08-18T14:00:59.370846Z"
    },
    "papermill": {
     "duration": 13.55188,
     "end_time": "2024-08-18T14:00:59.374049",
     "exception": false,
     "start_time": "2024-08-18T14:00:45.822169",
     "status": "completed"
    },
    "tags": []
   },
   "outputs": [
    {
     "name": "stderr",
     "output_type": "stream",
     "text": [
      "2024-08-18 14:00:47.676533: E external/local_xla/xla/stream_executor/cuda/cuda_dnn.cc:9261] Unable to register cuDNN factory: Attempting to register factory for plugin cuDNN when one has already been registered\n",
      "2024-08-18 14:00:47.676659: E external/local_xla/xla/stream_executor/cuda/cuda_fft.cc:607] Unable to register cuFFT factory: Attempting to register factory for plugin cuFFT when one has already been registered\n",
      "2024-08-18 14:00:47.810205: E external/local_xla/xla/stream_executor/cuda/cuda_blas.cc:1515] Unable to register cuBLAS factory: Attempting to register factory for plugin cuBLAS when one has already been registered\n"
     ]
    }
   ],
   "source": [
    "import tensorflow as tf\n",
    "from tensorflow.keras.preprocessing.text import Tokenizer\n",
    "from sklearn.model_selection import train_test_split\n",
    "from tensorflow.keras.layers import Embedding, LSTM, Dense, InputLayer\n",
    "from tensorflow.keras.models import Sequential\n",
    "from tensorflow.keras.losses import CategoricalCrossentropy\n",
    "from tensorflow.keras.callbacks import ModelCheckpoint\n",
    "from tensorflow.keras.utils import to_categorical\n",
    "from tensorflow.keras.optimizers import Adam\n",
    "from tensorflow.keras.preprocessing.sequence import pad_sequences\n",
    "import matplotlib.pyplot as plt\n",
    "import numpy as np\n",
    "import joblib as jb\n",
    "import re"
   ]
  },
  {
   "cell_type": "markdown",
   "id": "339ea957",
   "metadata": {
    "papermill": {
     "duration": 0.00934,
     "end_time": "2024-08-18T14:00:59.395717",
     "exception": false,
     "start_time": "2024-08-18T14:00:59.386377",
     "status": "completed"
    },
    "tags": []
   },
   "source": [
    "# Load Data\n",
    "Data Source: https://www.gutenberg.org/cache/epub/1342/pg1342.txt"
   ]
  },
  {
   "cell_type": "code",
   "execution_count": 2,
   "id": "ecc80bec",
   "metadata": {
    "execution": {
     "iopub.execute_input": "2024-08-18T14:00:59.412530Z",
     "iopub.status.busy": "2024-08-18T14:00:59.411953Z",
     "iopub.status.idle": "2024-08-18T14:00:59.456519Z",
     "shell.execute_reply": "2024-08-18T14:00:59.455640Z"
    },
    "papermill": {
     "duration": 0.055279,
     "end_time": "2024-08-18T14:00:59.458635",
     "exception": false,
     "start_time": "2024-08-18T14:00:59.403356",
     "status": "completed"
    },
    "tags": []
   },
   "outputs": [
    {
     "data": {
      "text/plain": [
       "['\\ufeffThe Project Gutenberg eBook of Pride and Prejudice\\n',\n",
       " '    \\n',\n",
       " 'This ebook is for the use of anyone anywhere in the United States and\\n',\n",
       " 'most other parts of the world at no cost and with almost no restrictions\\n',\n",
       " 'whatsoever. You may copy it, give it away or re-use it under the terms\\n']"
      ]
     },
     "execution_count": 2,
     "metadata": {},
     "output_type": "execute_result"
    }
   ],
   "source": [
    "with open('/kaggle/input/plain-text/Text for prediction.txt', 'r', encoding = 'utf8') as file:\n",
    "    content = [line for line in file.readlines()]\n",
    "    \n",
    "content[:5]"
   ]
  },
  {
   "cell_type": "markdown",
   "id": "47c9be64",
   "metadata": {
    "papermill": {
     "duration": 0.007565,
     "end_time": "2024-08-18T14:00:59.474242",
     "exception": false,
     "start_time": "2024-08-18T14:00:59.466677",
     "status": "completed"
    },
    "tags": []
   },
   "source": [
    "# Preprocess Data"
   ]
  },
  {
   "cell_type": "code",
   "execution_count": 3,
   "id": "87a53bf4",
   "metadata": {
    "execution": {
     "iopub.execute_input": "2024-08-18T14:00:59.491133Z",
     "iopub.status.busy": "2024-08-18T14:00:59.490780Z",
     "iopub.status.idle": "2024-08-18T14:00:59.500950Z",
     "shell.execute_reply": "2024-08-18T14:00:59.500109Z"
    },
    "papermill": {
     "duration": 0.021254,
     "end_time": "2024-08-18T14:00:59.503207",
     "exception": false,
     "start_time": "2024-08-18T14:00:59.481953",
     "status": "completed"
    },
    "tags": []
   },
   "outputs": [
    {
     "data": {
      "text/plain": [
       "['\\ufeffThe Project Gutenberg eBook of Pride and Prejudice',\n",
       " 'This ebook is for the use of anyone anywhere in the United States and',\n",
       " 'most other parts of the world at no cost and with almost no restrictions',\n",
       " 'whatsoever. You may copy it, give it away or re-use it under the terms',\n",
       " 'of the Project Gutenberg License included with this ebook or online']"
      ]
     },
     "execution_count": 3,
     "metadata": {},
     "output_type": "execute_result"
    }
   ],
   "source": [
    "# Remove empty lines\n",
    "prep_content = [line.strip() for line in content if line.strip()]\n",
    "prep_content[:5]"
   ]
  },
  {
   "cell_type": "code",
   "execution_count": 4,
   "id": "2504920e",
   "metadata": {
    "execution": {
     "iopub.execute_input": "2024-08-18T14:00:59.521275Z",
     "iopub.status.busy": "2024-08-18T14:00:59.520981Z",
     "iopub.status.idle": "2024-08-18T14:00:59.528611Z",
     "shell.execute_reply": "2024-08-18T14:00:59.527737Z"
    },
    "papermill": {
     "duration": 0.018293,
     "end_time": "2024-08-18T14:00:59.530540",
     "exception": false,
     "start_time": "2024-08-18T14:00:59.512247",
     "status": "completed"
    },
    "tags": []
   },
   "outputs": [
    {
     "data": {
      "text/plain": [
       "'\\ufeffThe Project Gutenberg eBook of Pride and Prejudice This ebook is for the use of anyone anywhere in the United States and most other parts of the world at no cost and with almost no restrictions whatsoever. You may copy it, give it away or re-use it under the terms of the Project Gutenberg License included with this ebook or online at www.gutenberg.org. If you are not located in the United States,'"
      ]
     },
     "execution_count": 4,
     "metadata": {},
     "output_type": "execute_result"
    }
   ],
   "source": [
    "# Concatenate Text\n",
    "prep_content = ' '.join(prep_content)\n",
    "prep_content[:400]"
   ]
  },
  {
   "cell_type": "code",
   "execution_count": 5,
   "id": "cc291bae",
   "metadata": {
    "execution": {
     "iopub.execute_input": "2024-08-18T14:00:59.549401Z",
     "iopub.status.busy": "2024-08-18T14:00:59.549100Z",
     "iopub.status.idle": "2024-08-18T14:00:59.764614Z",
     "shell.execute_reply": "2024-08-18T14:00:59.763708Z"
    },
    "papermill": {
     "duration": 0.22764,
     "end_time": "2024-08-18T14:00:59.766518",
     "exception": false,
     "start_time": "2024-08-18T14:00:59.538878",
     "status": "completed"
    },
    "tags": []
   },
   "outputs": [
    {
     "data": {
      "text/plain": [
       "'The Project Gutenberg eBook of Pride and Prejudice This ebook is for the use of anyone anywhere in the United States and most other parts of the world at no cost and with almost no restrictions whatsoever You may copy it give it away or reuse it under the terms of the Project Gutenberg License included with this ebook or online at If you are not located in the United States you will have to check '"
      ]
     },
     "execution_count": 5,
     "metadata": {},
     "output_type": "execute_result"
    }
   ],
   "source": [
    "def preprocess(text):\n",
    "    # Remove URLs (starting with 'www.' or 'http' or 'https')\n",
    "    text = re.sub(r'http\\S+|www\\.\\S+', '', text)\n",
    "    # Remove digits, special characters, quotes, double quotes, carriage returns, and newlines\n",
    "    text_cleaned = re.sub(r'[^\\w\\s]|\\r|\\n|\\d|[\"\\']', '', text)\n",
    "    # Replace multiple spaces with a single space\n",
    "    text_cleaned = re.sub(r'[\\s]+', ' ', text_cleaned)\n",
    "    return text_cleaned\n",
    "\n",
    "prep_content = preprocess(prep_content)\n",
    "prep_content[:400]"
   ]
  },
  {
   "cell_type": "code",
   "execution_count": 6,
   "id": "e519aa02",
   "metadata": {
    "execution": {
     "iopub.execute_input": "2024-08-18T14:00:59.784133Z",
     "iopub.status.busy": "2024-08-18T14:00:59.783798Z",
     "iopub.status.idle": "2024-08-18T14:00:59.789142Z",
     "shell.execute_reply": "2024-08-18T14:00:59.788306Z"
    },
    "papermill": {
     "duration": 0.016333,
     "end_time": "2024-08-18T14:00:59.791022",
     "exception": false,
     "start_time": "2024-08-18T14:00:59.774689",
     "status": "completed"
    },
    "tags": []
   },
   "outputs": [
    {
     "data": {
      "text/plain": [
       "710333"
      ]
     },
     "execution_count": 6,
     "metadata": {},
     "output_type": "execute_result"
    }
   ],
   "source": [
    "# Check length of the data\n",
    "len(prep_content)"
   ]
  },
  {
   "cell_type": "markdown",
   "id": "60fa20e0",
   "metadata": {
    "papermill": {
     "duration": 0.007994,
     "end_time": "2024-08-18T14:00:59.807221",
     "exception": false,
     "start_time": "2024-08-18T14:00:59.799227",
     "status": "completed"
    },
    "tags": []
   },
   "source": [
    "# Tokenize data"
   ]
  },
  {
   "cell_type": "code",
   "execution_count": 7,
   "id": "da99ae2f",
   "metadata": {
    "execution": {
     "iopub.execute_input": "2024-08-18T14:00:59.825256Z",
     "iopub.status.busy": "2024-08-18T14:00:59.824452Z",
     "iopub.status.idle": "2024-08-18T14:01:00.112019Z",
     "shell.execute_reply": "2024-08-18T14:01:00.111120Z"
    },
    "papermill": {
     "duration": 0.298922,
     "end_time": "2024-08-18T14:01:00.114146",
     "exception": false,
     "start_time": "2024-08-18T14:00:59.815224",
     "status": "completed"
    },
    "tags": []
   },
   "outputs": [
    {
     "name": "stdout",
     "output_type": "stream",
     "text": [
      "[1, 182, 188, 991, 3, 300, 4, 890, 41, 991, 23, 21, 1, 527, 3, 540, 2609, 8, 1, 674]\n"
     ]
    }
   ],
   "source": [
    "# Create tokenizer and fitting data\n",
    "tokenizer = Tokenizer()\n",
    "tokenizer.fit_on_texts([prep_content])\n",
    "\n",
    "# Convert data into sequences\n",
    "data_sequences = tokenizer.texts_to_sequences([prep_content])[0]\n",
    "print(data_sequences[:20])"
   ]
  },
  {
   "cell_type": "code",
   "execution_count": 8,
   "id": "a5fa24db",
   "metadata": {
    "execution": {
     "iopub.execute_input": "2024-08-18T14:01:00.132264Z",
     "iopub.status.busy": "2024-08-18T14:01:00.131824Z",
     "iopub.status.idle": "2024-08-18T14:01:00.137546Z",
     "shell.execute_reply": "2024-08-18T14:01:00.136721Z"
    },
    "papermill": {
     "duration": 0.016904,
     "end_time": "2024-08-18T14:01:00.139491",
     "exception": false,
     "start_time": "2024-08-18T14:01:00.122587",
     "status": "completed"
    },
    "tags": []
   },
   "outputs": [
    {
     "data": {
      "text/plain": [
       "130164"
      ]
     },
     "execution_count": 8,
     "metadata": {},
     "output_type": "execute_result"
    }
   ],
   "source": [
    "# Show length of sequence data\n",
    "len(data_sequences)"
   ]
  },
  {
   "cell_type": "code",
   "execution_count": 9,
   "id": "29330bc9",
   "metadata": {
    "execution": {
     "iopub.execute_input": "2024-08-18T14:01:00.157824Z",
     "iopub.status.busy": "2024-08-18T14:01:00.157522Z",
     "iopub.status.idle": "2024-08-18T14:01:00.162310Z",
     "shell.execute_reply": "2024-08-18T14:01:00.161405Z"
    },
    "papermill": {
     "duration": 0.016708,
     "end_time": "2024-08-18T14:01:00.164595",
     "exception": false,
     "start_time": "2024-08-18T14:01:00.147887",
     "status": "completed"
    },
    "tags": []
   },
   "outputs": [
    {
     "name": "stdout",
     "output_type": "stream",
     "text": [
      "7451\n"
     ]
    }
   ],
   "source": [
    "# Show vocabulary size\n",
    "vocab_size = len(tokenizer.word_index) + 1\n",
    "print(vocab_size)"
   ]
  },
  {
   "cell_type": "code",
   "execution_count": 10,
   "id": "1beb8484",
   "metadata": {
    "execution": {
     "iopub.execute_input": "2024-08-18T14:01:00.183074Z",
     "iopub.status.busy": "2024-08-18T14:01:00.182739Z",
     "iopub.status.idle": "2024-08-18T14:01:00.555274Z",
     "shell.execute_reply": "2024-08-18T14:01:00.554032Z"
    },
    "papermill": {
     "duration": 0.384135,
     "end_time": "2024-08-18T14:01:00.557379",
     "exception": false,
     "start_time": "2024-08-18T14:01:00.173244",
     "status": "completed"
    },
    "tags": []
   },
   "outputs": [
    {
     "name": "stdout",
     "output_type": "stream",
     "text": [
      "The length of the sequences is 130161\n",
      "[[  1 182 188 991]\n",
      " [182 188 991   3]\n",
      " [188 991   3 300]\n",
      " [991   3 300   4]\n",
      " [  3 300   4 890]\n",
      " [300   4 890  41]\n",
      " [  4 890  41 991]\n",
      " [890  41 991  23]\n",
      " [ 41 991  23  21]\n",
      " [991  23  21   1]]\n"
     ]
    }
   ],
   "source": [
    "# Create sequences\n",
    "sequence_length = 3\n",
    "sequences = []\n",
    "\n",
    "for i in range(sequence_length, len(data_sequences)):\n",
    "    words = data_sequences[i - sequence_length: i + 1]\n",
    "    sequences.append(words)\n",
    "    \n",
    "print(f'The length of the sequences is {len(sequences)}')\n",
    "sequences = np.array(sequences)\n",
    "print(sequences[:10])"
   ]
  },
  {
   "cell_type": "markdown",
   "id": "6abe40d1",
   "metadata": {
    "papermill": {
     "duration": 0.008538,
     "end_time": "2024-08-18T14:01:00.574618",
     "exception": false,
     "start_time": "2024-08-18T14:01:00.566080",
     "status": "completed"
    },
    "tags": []
   },
   "source": [
    "# Split data"
   ]
  },
  {
   "cell_type": "code",
   "execution_count": 11,
   "id": "235f2ebe",
   "metadata": {
    "execution": {
     "iopub.execute_input": "2024-08-18T14:01:00.593660Z",
     "iopub.status.busy": "2024-08-18T14:01:00.592879Z",
     "iopub.status.idle": "2024-08-18T14:01:00.806095Z",
     "shell.execute_reply": "2024-08-18T14:01:00.805312Z"
    },
    "papermill": {
     "duration": 0.225179,
     "end_time": "2024-08-18T14:01:00.808388",
     "exception": false,
     "start_time": "2024-08-18T14:01:00.583209",
     "status": "completed"
    },
    "tags": []
   },
   "outputs": [],
   "source": [
    "X, y = [], []\n",
    "for sequence in sequences:\n",
    "    X.append(sequence[0:sequence_length])\n",
    "    y.append(sequence[sequence_length])\n",
    "    \n",
    "X = np.array(X)\n",
    "y = np.array(y)"
   ]
  },
  {
   "cell_type": "code",
   "execution_count": 12,
   "id": "ef9fa607",
   "metadata": {
    "execution": {
     "iopub.execute_input": "2024-08-18T14:01:00.828063Z",
     "iopub.status.busy": "2024-08-18T14:01:00.827241Z",
     "iopub.status.idle": "2024-08-18T14:01:00.833310Z",
     "shell.execute_reply": "2024-08-18T14:01:00.832029Z"
    },
    "papermill": {
     "duration": 0.018047,
     "end_time": "2024-08-18T14:01:00.835259",
     "exception": false,
     "start_time": "2024-08-18T14:01:00.817212",
     "status": "completed"
    },
    "tags": []
   },
   "outputs": [
    {
     "name": "stdout",
     "output_type": "stream",
     "text": [
      "data: [  1 182 188]  ->  response: 991\n",
      "data: [182 188 991]  ->  response: 3\n",
      "data: [188 991   3]  ->  response: 300\n",
      "data: [991   3 300]  ->  response: 4\n",
      "data: [  3 300   4]  ->  response: 890\n"
     ]
    }
   ],
   "source": [
    "# Show first five data and its responses\n",
    "for data, response in zip(X[:5], y[:5]):\n",
    "    print(f'data: {data}  ->  response: {response}')"
   ]
  },
  {
   "cell_type": "code",
   "execution_count": 13,
   "id": "212eb21e",
   "metadata": {
    "execution": {
     "iopub.execute_input": "2024-08-18T14:01:00.853610Z",
     "iopub.status.busy": "2024-08-18T14:01:00.853318Z",
     "iopub.status.idle": "2024-08-18T14:01:01.159466Z",
     "shell.execute_reply": "2024-08-18T14:01:01.158632Z"
    },
    "papermill": {
     "duration": 0.317828,
     "end_time": "2024-08-18T14:01:01.161714",
     "exception": false,
     "start_time": "2024-08-18T14:01:00.843886",
     "status": "completed"
    },
    "tags": []
   },
   "outputs": [
    {
     "data": {
      "text/plain": [
       "array([0., 0., 0., ..., 0., 0., 0.])"
      ]
     },
     "execution_count": 13,
     "metadata": {},
     "output_type": "execute_result"
    }
   ],
   "source": [
    "# Convert responses into categorical responses\n",
    "y_categorical = to_categorical(y, num_classes = vocab_size)\n",
    "y_categorical[0]"
   ]
  },
  {
   "cell_type": "markdown",
   "id": "9bf63194",
   "metadata": {
    "papermill": {
     "duration": 0.008594,
     "end_time": "2024-08-18T14:01:01.179223",
     "exception": false,
     "start_time": "2024-08-18T14:01:01.170629",
     "status": "completed"
    },
    "tags": []
   },
   "source": [
    "# Modeling"
   ]
  },
  {
   "cell_type": "code",
   "execution_count": 14,
   "id": "61c4b6c0",
   "metadata": {
    "execution": {
     "iopub.execute_input": "2024-08-18T14:01:01.197673Z",
     "iopub.status.busy": "2024-08-18T14:01:01.197352Z",
     "iopub.status.idle": "2024-08-18T14:01:04.269026Z",
     "shell.execute_reply": "2024-08-18T14:01:04.268170Z"
    },
    "papermill": {
     "duration": 3.083225,
     "end_time": "2024-08-18T14:01:04.270979",
     "exception": false,
     "start_time": "2024-08-18T14:01:01.187754",
     "status": "completed"
    },
    "tags": []
   },
   "outputs": [
    {
     "name": "stderr",
     "output_type": "stream",
     "text": [
      "/opt/conda/lib/python3.10/site-packages/keras/src/layers/core/input_layer.py:26: UserWarning: Argument `input_shape` is deprecated. Use `shape` instead.\n",
      "  warnings.warn(\n"
     ]
    },
    {
     "data": {
      "text/html": [
       "<pre style=\"white-space:pre;overflow-x:auto;line-height:normal;font-family:Menlo,'DejaVu Sans Mono',consolas,'Courier New',monospace\"><span style=\"font-weight: bold\">Model: \"sequential\"</span>\n",
       "</pre>\n"
      ],
      "text/plain": [
       "\u001b[1mModel: \"sequential\"\u001b[0m\n"
      ]
     },
     "metadata": {},
     "output_type": "display_data"
    },
    {
     "data": {
      "text/html": [
       "<pre style=\"white-space:pre;overflow-x:auto;line-height:normal;font-family:Menlo,'DejaVu Sans Mono',consolas,'Courier New',monospace\">┏━━━━━━━━━━━━━━━━━━━━━━━━━━━━━━━━━┳━━━━━━━━━━━━━━━━━━━━━━━━┳━━━━━━━━━━━━━━━┓\n",
       "┃<span style=\"font-weight: bold\"> Layer (type)                    </span>┃<span style=\"font-weight: bold\"> Output Shape           </span>┃<span style=\"font-weight: bold\">       Param # </span>┃\n",
       "┡━━━━━━━━━━━━━━━━━━━━━━━━━━━━━━━━━╇━━━━━━━━━━━━━━━━━━━━━━━━╇━━━━━━━━━━━━━━━┩\n",
       "│ embedding (<span style=\"color: #0087ff; text-decoration-color: #0087ff\">Embedding</span>)           │ (<span style=\"color: #00d7ff; text-decoration-color: #00d7ff\">None</span>, <span style=\"color: #00af00; text-decoration-color: #00af00\">3</span>, <span style=\"color: #00af00; text-decoration-color: #00af00\">100</span>)         │       <span style=\"color: #00af00; text-decoration-color: #00af00\">745,100</span> │\n",
       "├─────────────────────────────────┼────────────────────────┼───────────────┤\n",
       "│ lstm (<span style=\"color: #0087ff; text-decoration-color: #0087ff\">LSTM</span>)                     │ (<span style=\"color: #00d7ff; text-decoration-color: #00d7ff\">None</span>, <span style=\"color: #00af00; text-decoration-color: #00af00\">3</span>, <span style=\"color: #00af00; text-decoration-color: #00af00\">1000</span>)        │     <span style=\"color: #00af00; text-decoration-color: #00af00\">4,404,000</span> │\n",
       "├─────────────────────────────────┼────────────────────────┼───────────────┤\n",
       "│ lstm_1 (<span style=\"color: #0087ff; text-decoration-color: #0087ff\">LSTM</span>)                   │ (<span style=\"color: #00d7ff; text-decoration-color: #00d7ff\">None</span>, <span style=\"color: #00af00; text-decoration-color: #00af00\">1000</span>)           │     <span style=\"color: #00af00; text-decoration-color: #00af00\">8,004,000</span> │\n",
       "├─────────────────────────────────┼────────────────────────┼───────────────┤\n",
       "│ dense (<span style=\"color: #0087ff; text-decoration-color: #0087ff\">Dense</span>)                   │ (<span style=\"color: #00d7ff; text-decoration-color: #00d7ff\">None</span>, <span style=\"color: #00af00; text-decoration-color: #00af00\">1000</span>)           │     <span style=\"color: #00af00; text-decoration-color: #00af00\">1,001,000</span> │\n",
       "├─────────────────────────────────┼────────────────────────┼───────────────┤\n",
       "│ dense_1 (<span style=\"color: #0087ff; text-decoration-color: #0087ff\">Dense</span>)                 │ (<span style=\"color: #00d7ff; text-decoration-color: #00d7ff\">None</span>, <span style=\"color: #00af00; text-decoration-color: #00af00\">7451</span>)           │     <span style=\"color: #00af00; text-decoration-color: #00af00\">7,458,451</span> │\n",
       "└─────────────────────────────────┴────────────────────────┴───────────────┘\n",
       "</pre>\n"
      ],
      "text/plain": [
       "┏━━━━━━━━━━━━━━━━━━━━━━━━━━━━━━━━━┳━━━━━━━━━━━━━━━━━━━━━━━━┳━━━━━━━━━━━━━━━┓\n",
       "┃\u001b[1m \u001b[0m\u001b[1mLayer (type)                   \u001b[0m\u001b[1m \u001b[0m┃\u001b[1m \u001b[0m\u001b[1mOutput Shape          \u001b[0m\u001b[1m \u001b[0m┃\u001b[1m \u001b[0m\u001b[1m      Param #\u001b[0m\u001b[1m \u001b[0m┃\n",
       "┡━━━━━━━━━━━━━━━━━━━━━━━━━━━━━━━━━╇━━━━━━━━━━━━━━━━━━━━━━━━╇━━━━━━━━━━━━━━━┩\n",
       "│ embedding (\u001b[38;5;33mEmbedding\u001b[0m)           │ (\u001b[38;5;45mNone\u001b[0m, \u001b[38;5;34m3\u001b[0m, \u001b[38;5;34m100\u001b[0m)         │       \u001b[38;5;34m745,100\u001b[0m │\n",
       "├─────────────────────────────────┼────────────────────────┼───────────────┤\n",
       "│ lstm (\u001b[38;5;33mLSTM\u001b[0m)                     │ (\u001b[38;5;45mNone\u001b[0m, \u001b[38;5;34m3\u001b[0m, \u001b[38;5;34m1000\u001b[0m)        │     \u001b[38;5;34m4,404,000\u001b[0m │\n",
       "├─────────────────────────────────┼────────────────────────┼───────────────┤\n",
       "│ lstm_1 (\u001b[38;5;33mLSTM\u001b[0m)                   │ (\u001b[38;5;45mNone\u001b[0m, \u001b[38;5;34m1000\u001b[0m)           │     \u001b[38;5;34m8,004,000\u001b[0m │\n",
       "├─────────────────────────────────┼────────────────────────┼───────────────┤\n",
       "│ dense (\u001b[38;5;33mDense\u001b[0m)                   │ (\u001b[38;5;45mNone\u001b[0m, \u001b[38;5;34m1000\u001b[0m)           │     \u001b[38;5;34m1,001,000\u001b[0m │\n",
       "├─────────────────────────────────┼────────────────────────┼───────────────┤\n",
       "│ dense_1 (\u001b[38;5;33mDense\u001b[0m)                 │ (\u001b[38;5;45mNone\u001b[0m, \u001b[38;5;34m7451\u001b[0m)           │     \u001b[38;5;34m7,458,451\u001b[0m │\n",
       "└─────────────────────────────────┴────────────────────────┴───────────────┘\n"
      ]
     },
     "metadata": {},
     "output_type": "display_data"
    },
    {
     "data": {
      "text/html": [
       "<pre style=\"white-space:pre;overflow-x:auto;line-height:normal;font-family:Menlo,'DejaVu Sans Mono',consolas,'Courier New',monospace\"><span style=\"font-weight: bold\"> Total params: </span><span style=\"color: #00af00; text-decoration-color: #00af00\">21,612,551</span> (82.45 MB)\n",
       "</pre>\n"
      ],
      "text/plain": [
       "\u001b[1m Total params: \u001b[0m\u001b[38;5;34m21,612,551\u001b[0m (82.45 MB)\n"
      ]
     },
     "metadata": {},
     "output_type": "display_data"
    },
    {
     "data": {
      "text/html": [
       "<pre style=\"white-space:pre;overflow-x:auto;line-height:normal;font-family:Menlo,'DejaVu Sans Mono',consolas,'Courier New',monospace\"><span style=\"font-weight: bold\"> Trainable params: </span><span style=\"color: #00af00; text-decoration-color: #00af00\">21,612,551</span> (82.45 MB)\n",
       "</pre>\n"
      ],
      "text/plain": [
       "\u001b[1m Trainable params: \u001b[0m\u001b[38;5;34m21,612,551\u001b[0m (82.45 MB)\n"
      ]
     },
     "metadata": {},
     "output_type": "display_data"
    },
    {
     "data": {
      "text/html": [
       "<pre style=\"white-space:pre;overflow-x:auto;line-height:normal;font-family:Menlo,'DejaVu Sans Mono',consolas,'Courier New',monospace\"><span style=\"font-weight: bold\"> Non-trainable params: </span><span style=\"color: #00af00; text-decoration-color: #00af00\">0</span> (0.00 B)\n",
       "</pre>\n"
      ],
      "text/plain": [
       "\u001b[1m Non-trainable params: \u001b[0m\u001b[38;5;34m0\u001b[0m (0.00 B)\n"
      ]
     },
     "metadata": {},
     "output_type": "display_data"
    }
   ],
   "source": [
    "# Define model\n",
    "model = Sequential([\n",
    "    InputLayer(input_shape=(sequence_length,)),\n",
    "    Embedding(vocab_size, 100),\n",
    "    LSTM(1000, return_sequences=True),\n",
    "    LSTM(1000),\n",
    "    Dense(1000, activation='relu'),\n",
    "    Dense(vocab_size, activation='softmax')\n",
    "])\n",
    "\n",
    "# View the model summary\n",
    "model.summary()"
   ]
  },
  {
   "cell_type": "code",
   "execution_count": 15,
   "id": "db7eed10",
   "metadata": {
    "execution": {
     "iopub.execute_input": "2024-08-18T14:01:04.291726Z",
     "iopub.status.busy": "2024-08-18T14:01:04.291452Z",
     "iopub.status.idle": "2024-08-18T14:01:04.305251Z",
     "shell.execute_reply": "2024-08-18T14:01:04.304376Z"
    },
    "papermill": {
     "duration": 0.026515,
     "end_time": "2024-08-18T14:01:04.307212",
     "exception": false,
     "start_time": "2024-08-18T14:01:04.280697",
     "status": "completed"
    },
    "tags": []
   },
   "outputs": [],
   "source": [
    "model.compile(optimizer='adam', loss=CategoricalCrossentropy())\n",
    "# Define the ModelCheckpoint callback\n",
    "checkpoint = ModelCheckpoint('model.keras', monitor='loss', verbose=1, save_best_only=True)"
   ]
  },
  {
   "cell_type": "code",
   "execution_count": 16,
   "id": "55f6bec7",
   "metadata": {
    "collapsed": true,
    "execution": {
     "iopub.execute_input": "2024-08-18T14:01:04.327417Z",
     "iopub.status.busy": "2024-08-18T14:01:04.327127Z",
     "iopub.status.idle": "2024-08-18T14:26:31.453386Z",
     "shell.execute_reply": "2024-08-18T14:26:31.452518Z"
    },
    "jupyter": {
     "outputs_hidden": true
    },
    "papermill": {
     "duration": 1527.139032,
     "end_time": "2024-08-18T14:26:31.455772",
     "exception": false,
     "start_time": "2024-08-18T14:01:04.316740",
     "status": "completed"
    },
    "tags": []
   },
   "outputs": [
    {
     "name": "stdout",
     "output_type": "stream",
     "text": [
      "Epoch 1/50\n",
      "\u001b[1m2032/2034\u001b[0m \u001b[32m━━━━━━━━━━━━━━━━━━━\u001b[0m\u001b[37m━\u001b[0m \u001b[1m0s\u001b[0m 15ms/step - loss: 6.4770\n",
      "Epoch 1: loss improved from inf to 6.12582, saving model to model.keras\n",
      "\u001b[1m2034/2034\u001b[0m \u001b[32m━━━━━━━━━━━━━━━━━━━━\u001b[0m\u001b[37m\u001b[0m \u001b[1m35s\u001b[0m 15ms/step - loss: 6.4765\n",
      "Epoch 2/50\n",
      "\u001b[1m2032/2034\u001b[0m \u001b[32m━━━━━━━━━━━━━━━━━━━\u001b[0m\u001b[37m━\u001b[0m \u001b[1m0s\u001b[0m 15ms/step - loss: 5.4840\n",
      "Epoch 2: loss improved from 6.12582 to 5.44952, saving model to model.keras\n",
      "\u001b[1m2034/2034\u001b[0m \u001b[32m━━━━━━━━━━━━━━━━━━━━\u001b[0m\u001b[37m\u001b[0m \u001b[1m31s\u001b[0m 15ms/step - loss: 5.4839\n",
      "Epoch 3/50\n",
      "\u001b[1m2032/2034\u001b[0m \u001b[32m━━━━━━━━━━━━━━━━━━━\u001b[0m\u001b[37m━\u001b[0m \u001b[1m0s\u001b[0m 15ms/step - loss: 5.1231\n",
      "Epoch 3: loss improved from 5.44952 to 5.09109, saving model to model.keras\n",
      "\u001b[1m2034/2034\u001b[0m \u001b[32m━━━━━━━━━━━━━━━━━━━━\u001b[0m\u001b[37m\u001b[0m \u001b[1m31s\u001b[0m 15ms/step - loss: 5.1230\n",
      "Epoch 4/50\n",
      "\u001b[1m2034/2034\u001b[0m \u001b[32m━━━━━━━━━━━━━━━━━━━━\u001b[0m\u001b[37m\u001b[0m \u001b[1m0s\u001b[0m 15ms/step - loss: 4.8063\n",
      "Epoch 4: loss improved from 5.09109 to 4.81716, saving model to model.keras\n",
      "\u001b[1m2034/2034\u001b[0m \u001b[32m━━━━━━━━━━━━━━━━━━━━\u001b[0m\u001b[37m\u001b[0m \u001b[1m31s\u001b[0m 15ms/step - loss: 4.8063\n",
      "Epoch 5/50\n",
      "\u001b[1m2031/2034\u001b[0m \u001b[32m━━━━━━━━━━━━━━━━━━━\u001b[0m\u001b[37m━\u001b[0m \u001b[1m0s\u001b[0m 15ms/step - loss: 4.5670\n",
      "Epoch 5: loss improved from 4.81716 to 4.57722, saving model to model.keras\n",
      "\u001b[1m2034/2034\u001b[0m \u001b[32m━━━━━━━━━━━━━━━━━━━━\u001b[0m\u001b[37m\u001b[0m \u001b[1m31s\u001b[0m 15ms/step - loss: 4.5670\n",
      "Epoch 6/50\n",
      "\u001b[1m2034/2034\u001b[0m \u001b[32m━━━━━━━━━━━━━━━━━━━━\u001b[0m\u001b[37m\u001b[0m \u001b[1m0s\u001b[0m 15ms/step - loss: 4.3108\n",
      "Epoch 6: loss improved from 4.57722 to 4.33718, saving model to model.keras\n",
      "\u001b[1m2034/2034\u001b[0m \u001b[32m━━━━━━━━━━━━━━━━━━━━\u001b[0m\u001b[37m\u001b[0m \u001b[1m31s\u001b[0m 15ms/step - loss: 4.3109\n",
      "Epoch 7/50\n",
      "\u001b[1m2033/2034\u001b[0m \u001b[32m━━━━━━━━━━━━━━━━━━━\u001b[0m\u001b[37m━\u001b[0m \u001b[1m0s\u001b[0m 14ms/step - loss: 4.0534\n",
      "Epoch 7: loss improved from 4.33718 to 4.08838, saving model to model.keras\n",
      "\u001b[1m2034/2034\u001b[0m \u001b[32m━━━━━━━━━━━━━━━━━━━━\u001b[0m\u001b[37m\u001b[0m \u001b[1m31s\u001b[0m 15ms/step - loss: 4.0534\n",
      "Epoch 8/50\n",
      "\u001b[1m2032/2034\u001b[0m \u001b[32m━━━━━━━━━━━━━━━━━━━\u001b[0m\u001b[37m━\u001b[0m \u001b[1m0s\u001b[0m 14ms/step - loss: 3.7743\n",
      "Epoch 8: loss improved from 4.08838 to 3.82271, saving model to model.keras\n",
      "\u001b[1m2034/2034\u001b[0m \u001b[32m━━━━━━━━━━━━━━━━━━━━\u001b[0m\u001b[37m\u001b[0m \u001b[1m30s\u001b[0m 15ms/step - loss: 3.7744\n",
      "Epoch 9/50\n",
      "\u001b[1m2033/2034\u001b[0m \u001b[32m━━━━━━━━━━━━━━━━━━━\u001b[0m\u001b[37m━\u001b[0m \u001b[1m0s\u001b[0m 14ms/step - loss: 3.4795\n",
      "Epoch 9: loss improved from 3.82271 to 3.53290, saving model to model.keras\n",
      "\u001b[1m2034/2034\u001b[0m \u001b[32m━━━━━━━━━━━━━━━━━━━━\u001b[0m\u001b[37m\u001b[0m \u001b[1m30s\u001b[0m 15ms/step - loss: 3.4796\n",
      "Epoch 10/50\n",
      "\u001b[1m2031/2034\u001b[0m \u001b[32m━━━━━━━━━━━━━━━━━━━\u001b[0m\u001b[37m━\u001b[0m \u001b[1m0s\u001b[0m 14ms/step - loss: 3.1637\n",
      "Epoch 10: loss improved from 3.53290 to 3.21414, saving model to model.keras\n",
      "\u001b[1m2034/2034\u001b[0m \u001b[32m━━━━━━━━━━━━━━━━━━━━\u001b[0m\u001b[37m\u001b[0m \u001b[1m30s\u001b[0m 15ms/step - loss: 3.1638\n",
      "Epoch 11/50\n",
      "\u001b[1m2033/2034\u001b[0m \u001b[32m━━━━━━━━━━━━━━━━━━━\u001b[0m\u001b[37m━\u001b[0m \u001b[1m0s\u001b[0m 14ms/step - loss: 2.8145\n",
      "Epoch 11: loss improved from 3.21414 to 2.87580, saving model to model.keras\n",
      "\u001b[1m2034/2034\u001b[0m \u001b[32m━━━━━━━━━━━━━━━━━━━━\u001b[0m\u001b[37m\u001b[0m \u001b[1m30s\u001b[0m 15ms/step - loss: 2.8146\n",
      "Epoch 12/50\n",
      "\u001b[1m2033/2034\u001b[0m \u001b[32m━━━━━━━━━━━━━━━━━━━\u001b[0m\u001b[37m━\u001b[0m \u001b[1m0s\u001b[0m 14ms/step - loss: 2.4362\n",
      "Epoch 12: loss improved from 2.87580 to 2.51916, saving model to model.keras\n",
      "\u001b[1m2034/2034\u001b[0m \u001b[32m━━━━━━━━━━━━━━━━━━━━\u001b[0m\u001b[37m\u001b[0m \u001b[1m30s\u001b[0m 15ms/step - loss: 2.4363\n",
      "Epoch 13/50\n",
      "\u001b[1m2032/2034\u001b[0m \u001b[32m━━━━━━━━━━━━━━━━━━━\u001b[0m\u001b[37m━\u001b[0m \u001b[1m0s\u001b[0m 14ms/step - loss: 2.0852\n",
      "Epoch 13: loss improved from 2.51916 to 2.16585, saving model to model.keras\n",
      "\u001b[1m2034/2034\u001b[0m \u001b[32m━━━━━━━━━━━━━━━━━━━━\u001b[0m\u001b[37m\u001b[0m \u001b[1m30s\u001b[0m 15ms/step - loss: 2.0853\n",
      "Epoch 14/50\n",
      "\u001b[1m2033/2034\u001b[0m \u001b[32m━━━━━━━━━━━━━━━━━━━\u001b[0m\u001b[37m━\u001b[0m \u001b[1m0s\u001b[0m 14ms/step - loss: 1.7434\n",
      "Epoch 14: loss improved from 2.16585 to 1.84182, saving model to model.keras\n",
      "\u001b[1m2034/2034\u001b[0m \u001b[32m━━━━━━━━━━━━━━━━━━━━\u001b[0m\u001b[37m\u001b[0m \u001b[1m30s\u001b[0m 15ms/step - loss: 1.7435\n",
      "Epoch 15/50\n",
      "\u001b[1m2033/2034\u001b[0m \u001b[32m━━━━━━━━━━━━━━━━━━━\u001b[0m\u001b[37m━\u001b[0m \u001b[1m0s\u001b[0m 14ms/step - loss: 1.4638\n",
      "Epoch 15: loss improved from 1.84182 to 1.55855, saving model to model.keras\n",
      "\u001b[1m2034/2034\u001b[0m \u001b[32m━━━━━━━━━━━━━━━━━━━━\u001b[0m\u001b[37m\u001b[0m \u001b[1m30s\u001b[0m 15ms/step - loss: 1.4639\n",
      "Epoch 16/50\n",
      "\u001b[1m2033/2034\u001b[0m \u001b[32m━━━━━━━━━━━━━━━━━━━\u001b[0m\u001b[37m━\u001b[0m \u001b[1m0s\u001b[0m 14ms/step - loss: 1.2105\n",
      "Epoch 16: loss improved from 1.55855 to 1.32014, saving model to model.keras\n",
      "\u001b[1m2034/2034\u001b[0m \u001b[32m━━━━━━━━━━━━━━━━━━━━\u001b[0m\u001b[37m\u001b[0m \u001b[1m30s\u001b[0m 15ms/step - loss: 1.2106\n",
      "Epoch 17/50\n",
      "\u001b[1m2031/2034\u001b[0m \u001b[32m━━━━━━━━━━━━━━━━━━━\u001b[0m\u001b[37m━\u001b[0m \u001b[1m0s\u001b[0m 14ms/step - loss: 1.0509\n",
      "Epoch 17: loss improved from 1.32014 to 1.14754, saving model to model.keras\n",
      "\u001b[1m2034/2034\u001b[0m \u001b[32m━━━━━━━━━━━━━━━━━━━━\u001b[0m\u001b[37m\u001b[0m \u001b[1m30s\u001b[0m 15ms/step - loss: 1.0511\n",
      "Epoch 18/50\n",
      "\u001b[1m2032/2034\u001b[0m \u001b[32m━━━━━━━━━━━━━━━━━━━\u001b[0m\u001b[37m━\u001b[0m \u001b[1m0s\u001b[0m 14ms/step - loss: 0.9167\n",
      "Epoch 18: loss improved from 1.14754 to 1.00701, saving model to model.keras\n",
      "\u001b[1m2034/2034\u001b[0m \u001b[32m━━━━━━━━━━━━━━━━━━━━\u001b[0m\u001b[37m\u001b[0m \u001b[1m30s\u001b[0m 15ms/step - loss: 0.9168\n",
      "Epoch 19/50\n",
      "\u001b[1m2032/2034\u001b[0m \u001b[32m━━━━━━━━━━━━━━━━━━━\u001b[0m\u001b[37m━\u001b[0m \u001b[1m0s\u001b[0m 14ms/step - loss: 0.8252\n",
      "Epoch 19: loss improved from 1.00701 to 0.91438, saving model to model.keras\n",
      "\u001b[1m2034/2034\u001b[0m \u001b[32m━━━━━━━━━━━━━━━━━━━━\u001b[0m\u001b[37m\u001b[0m \u001b[1m30s\u001b[0m 15ms/step - loss: 0.8253\n",
      "Epoch 20/50\n",
      "\u001b[1m2034/2034\u001b[0m \u001b[32m━━━━━━━━━━━━━━━━━━━━\u001b[0m\u001b[37m\u001b[0m \u001b[1m0s\u001b[0m 14ms/step - loss: 0.7656\n",
      "Epoch 20: loss improved from 0.91438 to 0.84647, saving model to model.keras\n",
      "\u001b[1m2034/2034\u001b[0m \u001b[32m━━━━━━━━━━━━━━━━━━━━\u001b[0m\u001b[37m\u001b[0m \u001b[1m30s\u001b[0m 15ms/step - loss: 0.7657\n",
      "Epoch 21/50\n",
      "\u001b[1m2031/2034\u001b[0m \u001b[32m━━━━━━━━━━━━━━━━━━━\u001b[0m\u001b[37m━\u001b[0m \u001b[1m0s\u001b[0m 14ms/step - loss: 0.7093\n",
      "Epoch 21: loss improved from 0.84647 to 0.78912, saving model to model.keras\n",
      "\u001b[1m2034/2034\u001b[0m \u001b[32m━━━━━━━━━━━━━━━━━━━━\u001b[0m\u001b[37m\u001b[0m \u001b[1m30s\u001b[0m 15ms/step - loss: 0.7094\n",
      "Epoch 22/50\n",
      "\u001b[1m2034/2034\u001b[0m \u001b[32m━━━━━━━━━━━━━━━━━━━━\u001b[0m\u001b[37m\u001b[0m \u001b[1m0s\u001b[0m 14ms/step - loss: 0.6730\n",
      "Epoch 22: loss improved from 0.78912 to 0.74654, saving model to model.keras\n",
      "\u001b[1m2034/2034\u001b[0m \u001b[32m━━━━━━━━━━━━━━━━━━━━\u001b[0m\u001b[37m\u001b[0m \u001b[1m30s\u001b[0m 15ms/step - loss: 0.6730\n",
      "Epoch 23/50\n",
      "\u001b[1m2031/2034\u001b[0m \u001b[32m━━━━━━━━━━━━━━━━━━━\u001b[0m\u001b[37m━\u001b[0m \u001b[1m0s\u001b[0m 14ms/step - loss: 0.6356\n",
      "Epoch 23: loss improved from 0.74654 to 0.71486, saving model to model.keras\n",
      "\u001b[1m2034/2034\u001b[0m \u001b[32m━━━━━━━━━━━━━━━━━━━━\u001b[0m\u001b[37m\u001b[0m \u001b[1m30s\u001b[0m 15ms/step - loss: 0.6358\n",
      "Epoch 24/50\n",
      "\u001b[1m2031/2034\u001b[0m \u001b[32m━━━━━━━━━━━━━━━━━━━\u001b[0m\u001b[37m━\u001b[0m \u001b[1m0s\u001b[0m 14ms/step - loss: 0.6090\n",
      "Epoch 24: loss improved from 0.71486 to 0.68694, saving model to model.keras\n",
      "\u001b[1m2034/2034\u001b[0m \u001b[32m━━━━━━━━━━━━━━━━━━━━\u001b[0m\u001b[37m\u001b[0m \u001b[1m30s\u001b[0m 15ms/step - loss: 0.6092\n",
      "Epoch 25/50\n",
      "\u001b[1m2031/2034\u001b[0m \u001b[32m━━━━━━━━━━━━━━━━━━━\u001b[0m\u001b[37m━\u001b[0m \u001b[1m0s\u001b[0m 14ms/step - loss: 0.5890\n",
      "Epoch 25: loss improved from 0.68694 to 0.66316, saving model to model.keras\n",
      "\u001b[1m2034/2034\u001b[0m \u001b[32m━━━━━━━━━━━━━━━━━━━━\u001b[0m\u001b[37m\u001b[0m \u001b[1m30s\u001b[0m 15ms/step - loss: 0.5892\n",
      "Epoch 26/50\n",
      "\u001b[1m2032/2034\u001b[0m \u001b[32m━━━━━━━━━━━━━━━━━━━\u001b[0m\u001b[37m━\u001b[0m \u001b[1m0s\u001b[0m 14ms/step - loss: 0.5709\n",
      "Epoch 26: loss improved from 0.66316 to 0.63964, saving model to model.keras\n",
      "\u001b[1m2034/2034\u001b[0m \u001b[32m━━━━━━━━━━━━━━━━━━━━\u001b[0m\u001b[37m\u001b[0m \u001b[1m30s\u001b[0m 15ms/step - loss: 0.5710\n",
      "Epoch 27/50\n",
      "\u001b[1m2032/2034\u001b[0m \u001b[32m━━━━━━━━━━━━━━━━━━━\u001b[0m\u001b[37m━\u001b[0m \u001b[1m0s\u001b[0m 14ms/step - loss: 0.5606\n",
      "Epoch 27: loss improved from 0.63964 to 0.62834, saving model to model.keras\n",
      "\u001b[1m2034/2034\u001b[0m \u001b[32m━━━━━━━━━━━━━━━━━━━━\u001b[0m\u001b[37m\u001b[0m \u001b[1m30s\u001b[0m 15ms/step - loss: 0.5607\n",
      "Epoch 28/50\n",
      "\u001b[1m2033/2034\u001b[0m \u001b[32m━━━━━━━━━━━━━━━━━━━\u001b[0m\u001b[37m━\u001b[0m \u001b[1m0s\u001b[0m 14ms/step - loss: 0.5503\n",
      "Epoch 28: loss improved from 0.62834 to 0.61166, saving model to model.keras\n",
      "\u001b[1m2034/2034\u001b[0m \u001b[32m━━━━━━━━━━━━━━━━━━━━\u001b[0m\u001b[37m\u001b[0m \u001b[1m30s\u001b[0m 15ms/step - loss: 0.5504\n",
      "Epoch 29/50\n",
      "\u001b[1m2033/2034\u001b[0m \u001b[32m━━━━━━━━━━━━━━━━━━━\u001b[0m\u001b[37m━\u001b[0m \u001b[1m0s\u001b[0m 14ms/step - loss: 0.5348\n",
      "Epoch 29: loss improved from 0.61166 to 0.59861, saving model to model.keras\n",
      "\u001b[1m2034/2034\u001b[0m \u001b[32m━━━━━━━━━━━━━━━━━━━━\u001b[0m\u001b[37m\u001b[0m \u001b[1m30s\u001b[0m 15ms/step - loss: 0.5349\n",
      "Epoch 30/50\n",
      "\u001b[1m2033/2034\u001b[0m \u001b[32m━━━━━━━━━━━━━━━━━━━\u001b[0m\u001b[37m━\u001b[0m \u001b[1m0s\u001b[0m 14ms/step - loss: 0.5312\n",
      "Epoch 30: loss improved from 0.59861 to 0.58846, saving model to model.keras\n",
      "\u001b[1m2034/2034\u001b[0m \u001b[32m━━━━━━━━━━━━━━━━━━━━\u001b[0m\u001b[37m\u001b[0m \u001b[1m30s\u001b[0m 15ms/step - loss: 0.5313\n",
      "Epoch 31/50\n",
      "\u001b[1m2032/2034\u001b[0m \u001b[32m━━━━━━━━━━━━━━━━━━━\u001b[0m\u001b[37m━\u001b[0m \u001b[1m0s\u001b[0m 14ms/step - loss: 0.5127\n",
      "Epoch 31: loss improved from 0.58846 to 0.57313, saving model to model.keras\n",
      "\u001b[1m2034/2034\u001b[0m \u001b[32m━━━━━━━━━━━━━━━━━━━━\u001b[0m\u001b[37m\u001b[0m \u001b[1m30s\u001b[0m 15ms/step - loss: 0.5128\n",
      "Epoch 32/50\n",
      "\u001b[1m2033/2034\u001b[0m \u001b[32m━━━━━━━━━━━━━━━━━━━\u001b[0m\u001b[37m━\u001b[0m \u001b[1m0s\u001b[0m 14ms/step - loss: 0.5138\n",
      "Epoch 32: loss improved from 0.57313 to 0.56897, saving model to model.keras\n",
      "\u001b[1m2034/2034\u001b[0m \u001b[32m━━━━━━━━━━━━━━━━━━━━\u001b[0m\u001b[37m\u001b[0m \u001b[1m30s\u001b[0m 15ms/step - loss: 0.5139\n",
      "Epoch 33/50\n",
      "\u001b[1m2032/2034\u001b[0m \u001b[32m━━━━━━━━━━━━━━━━━━━\u001b[0m\u001b[37m━\u001b[0m \u001b[1m0s\u001b[0m 14ms/step - loss: 0.4951\n",
      "Epoch 33: loss improved from 0.56897 to 0.55869, saving model to model.keras\n",
      "\u001b[1m2034/2034\u001b[0m \u001b[32m━━━━━━━━━━━━━━━━━━━━\u001b[0m\u001b[37m\u001b[0m \u001b[1m30s\u001b[0m 15ms/step - loss: 0.4952\n",
      "Epoch 34/50\n",
      "\u001b[1m2034/2034\u001b[0m \u001b[32m━━━━━━━━━━━━━━━━━━━━\u001b[0m\u001b[37m\u001b[0m \u001b[1m0s\u001b[0m 14ms/step - loss: 0.4924\n",
      "Epoch 34: loss improved from 0.55869 to 0.54900, saving model to model.keras\n",
      "\u001b[1m2034/2034\u001b[0m \u001b[32m━━━━━━━━━━━━━━━━━━━━\u001b[0m\u001b[37m\u001b[0m \u001b[1m30s\u001b[0m 15ms/step - loss: 0.4924\n",
      "Epoch 35/50\n",
      "\u001b[1m2033/2034\u001b[0m \u001b[32m━━━━━━━━━━━━━━━━━━━\u001b[0m\u001b[37m━\u001b[0m \u001b[1m0s\u001b[0m 14ms/step - loss: 0.4841\n",
      "Epoch 35: loss improved from 0.54900 to 0.54318, saving model to model.keras\n",
      "\u001b[1m2034/2034\u001b[0m \u001b[32m━━━━━━━━━━━━━━━━━━━━\u001b[0m\u001b[37m\u001b[0m \u001b[1m30s\u001b[0m 15ms/step - loss: 0.4842\n",
      "Epoch 36/50\n",
      "\u001b[1m2032/2034\u001b[0m \u001b[32m━━━━━━━━━━━━━━━━━━━\u001b[0m\u001b[37m━\u001b[0m \u001b[1m0s\u001b[0m 14ms/step - loss: 0.4723\n",
      "Epoch 36: loss improved from 0.54318 to 0.53129, saving model to model.keras\n",
      "\u001b[1m2034/2034\u001b[0m \u001b[32m━━━━━━━━━━━━━━━━━━━━\u001b[0m\u001b[37m\u001b[0m \u001b[1m30s\u001b[0m 15ms/step - loss: 0.4724\n",
      "Epoch 37/50\n",
      "\u001b[1m2032/2034\u001b[0m \u001b[32m━━━━━━━━━━━━━━━━━━━\u001b[0m\u001b[37m━\u001b[0m \u001b[1m0s\u001b[0m 14ms/step - loss: 0.4746\n",
      "Epoch 37: loss improved from 0.53129 to 0.52976, saving model to model.keras\n",
      "\u001b[1m2034/2034\u001b[0m \u001b[32m━━━━━━━━━━━━━━━━━━━━\u001b[0m\u001b[37m\u001b[0m \u001b[1m30s\u001b[0m 15ms/step - loss: 0.4747\n",
      "Epoch 38/50\n",
      "\u001b[1m2032/2034\u001b[0m \u001b[32m━━━━━━━━━━━━━━━━━━━\u001b[0m\u001b[37m━\u001b[0m \u001b[1m0s\u001b[0m 14ms/step - loss: 0.4686\n",
      "Epoch 38: loss improved from 0.52976 to 0.52580, saving model to model.keras\n",
      "\u001b[1m2034/2034\u001b[0m \u001b[32m━━━━━━━━━━━━━━━━━━━━\u001b[0m\u001b[37m\u001b[0m \u001b[1m30s\u001b[0m 15ms/step - loss: 0.4686\n",
      "Epoch 39/50\n",
      "\u001b[1m2031/2034\u001b[0m \u001b[32m━━━━━━━━━━━━━━━━━━━\u001b[0m\u001b[37m━\u001b[0m \u001b[1m0s\u001b[0m 14ms/step - loss: 0.4629\n",
      "Epoch 39: loss improved from 0.52580 to 0.51348, saving model to model.keras\n",
      "\u001b[1m2034/2034\u001b[0m \u001b[32m━━━━━━━━━━━━━━━━━━━━\u001b[0m\u001b[37m\u001b[0m \u001b[1m30s\u001b[0m 15ms/step - loss: 0.4630\n",
      "Epoch 40/50\n",
      "\u001b[1m2032/2034\u001b[0m \u001b[32m━━━━━━━━━━━━━━━━━━━\u001b[0m\u001b[37m━\u001b[0m \u001b[1m0s\u001b[0m 14ms/step - loss: 0.4566\n",
      "Epoch 40: loss improved from 0.51348 to 0.50926, saving model to model.keras\n",
      "\u001b[1m2034/2034\u001b[0m \u001b[32m━━━━━━━━━━━━━━━━━━━━\u001b[0m\u001b[37m\u001b[0m \u001b[1m30s\u001b[0m 15ms/step - loss: 0.4567\n",
      "Epoch 41/50\n",
      "\u001b[1m2032/2034\u001b[0m \u001b[32m━━━━━━━━━━━━━━━━━━━\u001b[0m\u001b[37m━\u001b[0m \u001b[1m0s\u001b[0m 14ms/step - loss: 0.4546\n",
      "Epoch 41: loss improved from 0.50926 to 0.50878, saving model to model.keras\n",
      "\u001b[1m2034/2034\u001b[0m \u001b[32m━━━━━━━━━━━━━━━━━━━━\u001b[0m\u001b[37m\u001b[0m \u001b[1m30s\u001b[0m 15ms/step - loss: 0.4547\n",
      "Epoch 42/50\n",
      "\u001b[1m2031/2034\u001b[0m \u001b[32m━━━━━━━━━━━━━━━━━━━\u001b[0m\u001b[37m━\u001b[0m \u001b[1m0s\u001b[0m 14ms/step - loss: 0.4503\n",
      "Epoch 42: loss improved from 0.50878 to 0.50587, saving model to model.keras\n",
      "\u001b[1m2034/2034\u001b[0m \u001b[32m━━━━━━━━━━━━━━━━━━━━\u001b[0m\u001b[37m\u001b[0m \u001b[1m30s\u001b[0m 15ms/step - loss: 0.4504\n",
      "Epoch 43/50\n",
      "\u001b[1m2031/2034\u001b[0m \u001b[32m━━━━━━━━━━━━━━━━━━━\u001b[0m\u001b[37m━\u001b[0m \u001b[1m0s\u001b[0m 14ms/step - loss: 0.4441\n",
      "Epoch 43: loss improved from 0.50587 to 0.49112, saving model to model.keras\n",
      "\u001b[1m2034/2034\u001b[0m \u001b[32m━━━━━━━━━━━━━━━━━━━━\u001b[0m\u001b[37m\u001b[0m \u001b[1m30s\u001b[0m 15ms/step - loss: 0.4442\n",
      "Epoch 44/50\n",
      "\u001b[1m2034/2034\u001b[0m \u001b[32m━━━━━━━━━━━━━━━━━━━━\u001b[0m\u001b[37m\u001b[0m \u001b[1m0s\u001b[0m 14ms/step - loss: 0.4408\n",
      "Epoch 44: loss did not improve from 0.49112\n",
      "\u001b[1m2034/2034\u001b[0m \u001b[32m━━━━━━━━━━━━━━━━━━━━\u001b[0m\u001b[37m\u001b[0m \u001b[1m29s\u001b[0m 14ms/step - loss: 0.4408\n",
      "Epoch 45/50\n",
      "\u001b[1m2031/2034\u001b[0m \u001b[32m━━━━━━━━━━━━━━━━━━━\u001b[0m\u001b[37m━\u001b[0m \u001b[1m0s\u001b[0m 14ms/step - loss: 0.4436\n",
      "Epoch 45: loss did not improve from 0.49112\n",
      "\u001b[1m2034/2034\u001b[0m \u001b[32m━━━━━━━━━━━━━━━━━━━━\u001b[0m\u001b[37m\u001b[0m \u001b[1m29s\u001b[0m 14ms/step - loss: 0.4437\n",
      "Epoch 46/50\n",
      "\u001b[1m2033/2034\u001b[0m \u001b[32m━━━━━━━━━━━━━━━━━━━\u001b[0m\u001b[37m━\u001b[0m \u001b[1m0s\u001b[0m 14ms/step - loss: 0.4436\n",
      "Epoch 46: loss improved from 0.49112 to 0.48637, saving model to model.keras\n",
      "\u001b[1m2034/2034\u001b[0m \u001b[32m━━━━━━━━━━━━━━━━━━━━\u001b[0m\u001b[37m\u001b[0m \u001b[1m30s\u001b[0m 15ms/step - loss: 0.4437\n",
      "Epoch 47/50\n",
      "\u001b[1m2031/2034\u001b[0m \u001b[32m━━━━━━━━━━━━━━━━━━━\u001b[0m\u001b[37m━\u001b[0m \u001b[1m0s\u001b[0m 14ms/step - loss: 0.4265\n",
      "Epoch 47: loss improved from 0.48637 to 0.47869, saving model to model.keras\n",
      "\u001b[1m2034/2034\u001b[0m \u001b[32m━━━━━━━━━━━━━━━━━━━━\u001b[0m\u001b[37m\u001b[0m \u001b[1m30s\u001b[0m 15ms/step - loss: 0.4266\n",
      "Epoch 48/50\n",
      "\u001b[1m2032/2034\u001b[0m \u001b[32m━━━━━━━━━━━━━━━━━━━\u001b[0m\u001b[37m━\u001b[0m \u001b[1m0s\u001b[0m 14ms/step - loss: 0.4353\n",
      "Epoch 48: loss did not improve from 0.47869\n",
      "\u001b[1m2034/2034\u001b[0m \u001b[32m━━━━━━━━━━━━━━━━━━━━\u001b[0m\u001b[37m\u001b[0m \u001b[1m39s\u001b[0m 14ms/step - loss: 0.4354\n",
      "Epoch 49/50\n",
      "\u001b[1m2032/2034\u001b[0m \u001b[32m━━━━━━━━━━━━━━━━━━━\u001b[0m\u001b[37m━\u001b[0m \u001b[1m0s\u001b[0m 14ms/step - loss: 0.4298\n",
      "Epoch 49: loss improved from 0.47869 to 0.47619, saving model to model.keras\n",
      "\u001b[1m2034/2034\u001b[0m \u001b[32m━━━━━━━━━━━━━━━━━━━━\u001b[0m\u001b[37m\u001b[0m \u001b[1m30s\u001b[0m 15ms/step - loss: 0.4299\n",
      "Epoch 50/50\n",
      "\u001b[1m2033/2034\u001b[0m \u001b[32m━━━━━━━━━━━━━━━━━━━\u001b[0m\u001b[37m━\u001b[0m \u001b[1m0s\u001b[0m 14ms/step - loss: 0.4235\n",
      "Epoch 50: loss improved from 0.47619 to 0.47104, saving model to model.keras\n",
      "\u001b[1m2034/2034\u001b[0m \u001b[32m━━━━━━━━━━━━━━━━━━━━\u001b[0m\u001b[37m\u001b[0m \u001b[1m30s\u001b[0m 15ms/step - loss: 0.4235\n"
     ]
    }
   ],
   "source": [
    "# Train the model with the checkpoint callback\n",
    "history = model.fit(X, y_categorical, \n",
    "                    epochs=50,\n",
    "                    batch_size = 64,\n",
    "                    callbacks=[checkpoint]\n",
    "                   )"
   ]
  },
  {
   "cell_type": "code",
   "execution_count": 17,
   "id": "ac1c5ac2",
   "metadata": {
    "execution": {
     "iopub.execute_input": "2024-08-18T14:26:35.772124Z",
     "iopub.status.busy": "2024-08-18T14:26:35.771746Z",
     "iopub.status.idle": "2024-08-18T14:26:36.031009Z",
     "shell.execute_reply": "2024-08-18T14:26:36.029949Z"
    },
    "papermill": {
     "duration": 2.383551,
     "end_time": "2024-08-18T14:26:36.033154",
     "exception": false,
     "start_time": "2024-08-18T14:26:33.649603",
     "status": "completed"
    },
    "tags": []
   },
   "outputs": [
    {
     "data": {
      "text/plain": [
       "<matplotlib.legend.Legend at 0x7e1672f5e260>"
      ]
     },
     "execution_count": 17,
     "metadata": {},
     "output_type": "execute_result"
    },
    {
     "data": {
      "image/png": "[encoded data removed]",
      "text/plain": [
       "<Figure size 500x500 with 1 Axes>"
      ]
     },
     "metadata": {},
     "output_type": "display_data"
    }
   ],
   "source": [
    "# Visualize the accuracy with the loss\n",
    "plt.figure(figsize=(5,5))\n",
    "plt.plot(history.history['loss'])\n",
    "plt.title(\"loss over epochs\")\n",
    "plt.ylabel(\"loss\")\n",
    "plt.xlabel(\"epochs\")\n",
    "plt.legend([\"trianing data\"],loc=\"upper right\")"
   ]
  },
  {
   "cell_type": "markdown",
   "id": "74232bd3",
   "metadata": {
    "papermill": {
     "duration": 2.073663,
     "end_time": "2024-08-18T14:26:40.327707",
     "exception": false,
     "start_time": "2024-08-18T14:26:38.254044",
     "status": "completed"
    },
    "tags": []
   },
   "source": [
    "# Create predictive system"
   ]
  },
  {
   "cell_type": "code",
   "execution_count": 18,
   "id": "540f9f6e",
   "metadata": {
    "execution": {
     "iopub.execute_input": "2024-08-18T14:26:44.579497Z",
     "iopub.status.busy": "2024-08-18T14:26:44.578561Z",
     "iopub.status.idle": "2024-08-18T14:26:47.627956Z",
     "shell.execute_reply": "2024-08-18T14:26:47.627037Z"
    },
    "papermill": {
     "duration": 5.16312,
     "end_time": "2024-08-18T14:26:47.629816",
     "exception": false,
     "start_time": "2024-08-18T14:26:42.466696",
     "status": "completed"
    },
    "tags": []
   },
   "outputs": [
    {
     "name": "stdout",
     "output_type": "stream",
     "text": [
      "\u001b[1m1/1\u001b[0m \u001b[32m━━━━━━━━━━━━━━━━━━━━\u001b[0m\u001b[37m\u001b[0m \u001b[1m0s\u001b[0m 275ms/step\n",
      "\u001b[1m1/1\u001b[0m \u001b[32m━━━━━━━━━━━━━━━━━━━━\u001b[0m\u001b[37m\u001b[0m \u001b[1m0s\u001b[0m 18ms/step\n",
      "\u001b[1m1/1\u001b[0m \u001b[32m━━━━━━━━━━━━━━━━━━━━\u001b[0m\u001b[37m\u001b[0m \u001b[1m0s\u001b[0m 18ms/step\n",
      "\u001b[1m1/1\u001b[0m \u001b[32m━━━━━━━━━━━━━━━━━━━━\u001b[0m\u001b[37m\u001b[0m \u001b[1m0s\u001b[0m 17ms/step\n",
      "\u001b[1m1/1\u001b[0m \u001b[32m━━━━━━━━━━━━━━━━━━━━\u001b[0m\u001b[37m\u001b[0m \u001b[1m0s\u001b[0m 17ms/step\n",
      "\u001b[1m1/1\u001b[0m \u001b[32m━━━━━━━━━━━━━━━━━━━━\u001b[0m\u001b[37m\u001b[0m \u001b[1m0s\u001b[0m 17ms/step\n",
      "\u001b[1m1/1\u001b[0m \u001b[32m━━━━━━━━━━━━━━━━━━━━\u001b[0m\u001b[37m\u001b[0m \u001b[1m0s\u001b[0m 18ms/step\n",
      "\u001b[1m1/1\u001b[0m \u001b[32m━━━━━━━━━━━━━━━━━━━━\u001b[0m\u001b[37m\u001b[0m \u001b[1m0s\u001b[0m 18ms/step\n",
      "\u001b[1m1/1\u001b[0m \u001b[32m━━━━━━━━━━━━━━━━━━━━\u001b[0m\u001b[37m\u001b[0m \u001b[1m0s\u001b[0m 18ms/step\n",
      "\u001b[1m1/1\u001b[0m \u001b[32m━━━━━━━━━━━━━━━━━━━━\u001b[0m\u001b[37m\u001b[0m \u001b[1m0s\u001b[0m 18ms/step\n",
      "\u001b[1m1/1\u001b[0m \u001b[32m━━━━━━━━━━━━━━━━━━━━\u001b[0m\u001b[37m\u001b[0m \u001b[1m0s\u001b[0m 17ms/step\n",
      "\u001b[1m1/1\u001b[0m \u001b[32m━━━━━━━━━━━━━━━━━━━━\u001b[0m\u001b[37m\u001b[0m \u001b[1m0s\u001b[0m 18ms/step\n",
      "\u001b[1m1/1\u001b[0m \u001b[32m━━━━━━━━━━━━━━━━━━━━\u001b[0m\u001b[37m\u001b[0m \u001b[1m0s\u001b[0m 19ms/step\n",
      "\u001b[1m1/1\u001b[0m \u001b[32m━━━━━━━━━━━━━━━━━━━━\u001b[0m\u001b[37m\u001b[0m \u001b[1m0s\u001b[0m 17ms/step\n",
      "\u001b[1m1/1\u001b[0m \u001b[32m━━━━━━━━━━━━━━━━━━━━\u001b[0m\u001b[37m\u001b[0m \u001b[1m0s\u001b[0m 17ms/step\n",
      "\u001b[1m1/1\u001b[0m \u001b[32m━━━━━━━━━━━━━━━━━━━━\u001b[0m\u001b[37m\u001b[0m \u001b[1m0s\u001b[0m 16ms/step\n",
      "\u001b[1m1/1\u001b[0m \u001b[32m━━━━━━━━━━━━━━━━━━━━\u001b[0m\u001b[37m\u001b[0m \u001b[1m0s\u001b[0m 17ms/step\n",
      "\u001b[1m1/1\u001b[0m \u001b[32m━━━━━━━━━━━━━━━━━━━━\u001b[0m\u001b[37m\u001b[0m \u001b[1m0s\u001b[0m 17ms/step\n",
      "\u001b[1m1/1\u001b[0m \u001b[32m━━━━━━━━━━━━━━━━━━━━\u001b[0m\u001b[37m\u001b[0m \u001b[1m0s\u001b[0m 17ms/step\n",
      "\u001b[1m1/1\u001b[0m \u001b[32m━━━━━━━━━━━━━━━━━━━━\u001b[0m\u001b[37m\u001b[0m \u001b[1m0s\u001b[0m 17ms/step\n",
      "\u001b[1m1/1\u001b[0m \u001b[32m━━━━━━━━━━━━━━━━━━━━\u001b[0m\u001b[37m\u001b[0m \u001b[1m0s\u001b[0m 18ms/step\n",
      "\u001b[1m1/1\u001b[0m \u001b[32m━━━━━━━━━━━━━━━━━━━━\u001b[0m\u001b[37m\u001b[0m \u001b[1m0s\u001b[0m 16ms/step\n",
      "\u001b[1m1/1\u001b[0m \u001b[32m━━━━━━━━━━━━━━━━━━━━\u001b[0m\u001b[37m\u001b[0m \u001b[1m0s\u001b[0m 16ms/step\n",
      "\u001b[1m1/1\u001b[0m \u001b[32m━━━━━━━━━━━━━━━━━━━━\u001b[0m\u001b[37m\u001b[0m \u001b[1m0s\u001b[0m 16ms/step\n",
      "\u001b[1m1/1\u001b[0m \u001b[32m━━━━━━━━━━━━━━━━━━━━\u001b[0m\u001b[37m\u001b[0m \u001b[1m0s\u001b[0m 17ms/step\n",
      "\u001b[1m1/1\u001b[0m \u001b[32m━━━━━━━━━━━━━━━━━━━━\u001b[0m\u001b[37m\u001b[0m \u001b[1m0s\u001b[0m 17ms/step\n",
      "\u001b[1m1/1\u001b[0m \u001b[32m━━━━━━━━━━━━━━━━━━━━\u001b[0m\u001b[37m\u001b[0m \u001b[1m0s\u001b[0m 17ms/step\n",
      "\u001b[1m1/1\u001b[0m \u001b[32m━━━━━━━━━━━━━━━━━━━━\u001b[0m\u001b[37m\u001b[0m \u001b[1m0s\u001b[0m 16ms/step\n",
      "\u001b[1m1/1\u001b[0m \u001b[32m━━━━━━━━━━━━━━━━━━━━\u001b[0m\u001b[37m\u001b[0m \u001b[1m0s\u001b[0m 16ms/step\n",
      "\u001b[1m1/1\u001b[0m \u001b[32m━━━━━━━━━━━━━━━━━━━━\u001b[0m\u001b[37m\u001b[0m \u001b[1m0s\u001b[0m 16ms/step\n",
      "\u001b[1m1/1\u001b[0m \u001b[32m━━━━━━━━━━━━━━━━━━━━\u001b[0m\u001b[37m\u001b[0m \u001b[1m0s\u001b[0m 17ms/step\n",
      "\u001b[1m1/1\u001b[0m \u001b[32m━━━━━━━━━━━━━━━━━━━━\u001b[0m\u001b[37m\u001b[0m \u001b[1m0s\u001b[0m 17ms/step\n",
      "\u001b[1m1/1\u001b[0m \u001b[32m━━━━━━━━━━━━━━━━━━━━\u001b[0m\u001b[37m\u001b[0m \u001b[1m0s\u001b[0m 16ms/step\n",
      "\u001b[1m1/1\u001b[0m \u001b[32m━━━━━━━━━━━━━━━━━━━━\u001b[0m\u001b[37m\u001b[0m \u001b[1m0s\u001b[0m 16ms/step\n",
      "\u001b[1m1/1\u001b[0m \u001b[32m━━━━━━━━━━━━━━━━━━━━\u001b[0m\u001b[37m\u001b[0m \u001b[1m0s\u001b[0m 17ms/step\n",
      "\u001b[1m1/1\u001b[0m \u001b[32m━━━━━━━━━━━━━━━━━━━━\u001b[0m\u001b[37m\u001b[0m \u001b[1m0s\u001b[0m 17ms/step\n",
      "\u001b[1m1/1\u001b[0m \u001b[32m━━━━━━━━━━━━━━━━━━━━\u001b[0m\u001b[37m\u001b[0m \u001b[1m0s\u001b[0m 17ms/step\n",
      "\u001b[1m1/1\u001b[0m \u001b[32m━━━━━━━━━━━━━━━━━━━━\u001b[0m\u001b[37m\u001b[0m \u001b[1m0s\u001b[0m 17ms/step\n",
      "\u001b[1m1/1\u001b[0m \u001b[32m━━━━━━━━━━━━━━━━━━━━\u001b[0m\u001b[37m\u001b[0m \u001b[1m0s\u001b[0m 17ms/step\n",
      "\u001b[1m1/1\u001b[0m \u001b[32m━━━━━━━━━━━━━━━━━━━━\u001b[0m\u001b[37m\u001b[0m \u001b[1m0s\u001b[0m 17ms/step\n",
      "\u001b[1m1/1\u001b[0m \u001b[32m━━━━━━━━━━━━━━━━━━━━\u001b[0m\u001b[37m\u001b[0m \u001b[1m0s\u001b[0m 16ms/step\n",
      "\u001b[1m1/1\u001b[0m \u001b[32m━━━━━━━━━━━━━━━━━━━━\u001b[0m\u001b[37m\u001b[0m \u001b[1m0s\u001b[0m 18ms/step\n",
      "\u001b[1m1/1\u001b[0m \u001b[32m━━━━━━━━━━━━━━━━━━━━\u001b[0m\u001b[37m\u001b[0m \u001b[1m0s\u001b[0m 17ms/step\n",
      "\u001b[1m1/1\u001b[0m \u001b[32m━━━━━━━━━━━━━━━━━━━━\u001b[0m\u001b[37m\u001b[0m \u001b[1m0s\u001b[0m 18ms/step\n",
      "\u001b[1m1/1\u001b[0m \u001b[32m━━━━━━━━━━━━━━━━━━━━\u001b[0m\u001b[37m\u001b[0m \u001b[1m0s\u001b[0m 17ms/step\n",
      "\u001b[1m1/1\u001b[0m \u001b[32m━━━━━━━━━━━━━━━━━━━━\u001b[0m\u001b[37m\u001b[0m \u001b[1m0s\u001b[0m 17ms/step\n",
      "\u001b[1m1/1\u001b[0m \u001b[32m━━━━━━━━━━━━━━━━━━━━\u001b[0m\u001b[37m\u001b[0m \u001b[1m0s\u001b[0m 17ms/step\n",
      "\u001b[1m1/1\u001b[0m \u001b[32m━━━━━━━━━━━━━━━━━━━━\u001b[0m\u001b[37m\u001b[0m \u001b[1m0s\u001b[0m 16ms/step\n",
      "\u001b[1m1/1\u001b[0m \u001b[32m━━━━━━━━━━━━━━━━━━━━\u001b[0m\u001b[37m\u001b[0m \u001b[1m0s\u001b[0m 17ms/step\n",
      "\u001b[1m1/1\u001b[0m \u001b[32m━━━━━━━━━━━━━━━━━━━━\u001b[0m\u001b[37m\u001b[0m \u001b[1m0s\u001b[0m 18ms/step\n",
      "The happiest set set out on the subject of the ball there was such a succession of rain as prevented their walking to meryton once no aunt no officers no news could be sought after the very shoeroses for netherfield were got by proxy even elizabeth might have found some trial\n"
     ]
    }
   ],
   "source": [
    "# Handle text content before feed it into model \n",
    "def handle_input(text):\n",
    "    strip_text = text.strip()\n",
    "    cleaned_text = preprocess(strip_text)\n",
    "    return cleaned_text\n",
    "\n",
    "# Predictive system to predict one word each time based on last three words\n",
    "def predict_next_word(text):\n",
    "    handled_text = text.split(' ')[-3:]\n",
    "    sequence = tokenizer.texts_to_sequences([handled_text])\n",
    "    sequence = pad_sequences(sequence, maxlen = sequence_length, padding = 'pre')\n",
    "    sequence = np.array(sequence)\n",
    "    preds = np.argmax(model.predict(sequence))\n",
    "    \n",
    "    predicted_word = ''\n",
    "    for key, value in tokenizer.word_index.items():\n",
    "        if value == preds:\n",
    "            predicted_word = key\n",
    "            break\n",
    "    return predicted_word\n",
    "    \n",
    "    \n",
    "    \n",
    "text = 'The'\n",
    "number_of_desired_words = 50\n",
    "handled_text = handle_input(text)\n",
    "\n",
    "for _ in range(number_of_desired_words):\n",
    "    predicted_word = predict_next_word(handled_text)\n",
    "    handled_text = handled_text + ' ' + predicted_word\n",
    "print(handled_text)"
   ]
  },
  {
   "cell_type": "code",
   "execution_count": 19,
   "id": "6b179fdb",
   "metadata": {
    "execution": {
     "iopub.execute_input": "2024-08-18T14:26:51.893975Z",
     "iopub.status.busy": "2024-08-18T14:26:51.893630Z",
     "iopub.status.idle": "2024-08-18T14:26:52.177798Z",
     "shell.execute_reply": "2024-08-18T14:26:52.176940Z"
    },
    "papermill": {
     "duration": 2.340759,
     "end_time": "2024-08-18T14:26:52.179841",
     "exception": false,
     "start_time": "2024-08-18T14:26:49.839082",
     "status": "completed"
    },
    "tags": []
   },
   "outputs": [
    {
     "data": {
      "text/plain": [
       "['tokenizer.sav']"
      ]
     },
     "execution_count": 19,
     "metadata": {},
     "output_type": "execute_result"
    }
   ],
   "source": [
    "# Save the tokenizer\n",
    "jb.dump(tokenizer, 'PrepareModel\\\\tokenizer.sav')"
   ]
  },
  {
   "attachments": {
    "6efadf33-1ae2-4f5d-b0d0-e2ed650afbdf.png": {
     "image/png": "[encoded data removed]"
    }
   },
   "cell_type": "markdown",
   "id": "af5cd1e5",
   "metadata": {
    "papermill": {
     "duration": 2.101463,
     "end_time": "2024-08-18T14:26:56.388559",
     "exception": false,
     "start_time": "2024-08-18T14:26:54.287096",
     "status": "completed"
    },
    "tags": []
   },
   "source": [
    "![download.png](attachment:6efadf33-1ae2-4f5d-b0d0-e2ed650afbdf.png)"
   ]
  }
 ],
 "metadata": {
  "kaggle": {
   "accelerator": "gpu",
   "dataSources": [
    {
     "datasetId": 5559123,
     "sourceId": 9195559,
     "sourceType": "datasetVersion"
    },
    {
     "datasetId": 5296087,
     "sourceId": 8805864,
     "sourceType": "datasetVersion"
    }
   ],
   "dockerImageVersionId": 30747,
   "isGpuEnabled": true,
   "isInternetEnabled": true,
   "language": "python",
   "sourceType": "notebook"
  },
  "kernelspec": {
   "display_name": "Python 3",
   "language": "python",
   "name": "python3"
  },
  "language_info": {
   "codemirror_mode": {
    "name": "ipython",
    "version": 3
   },
   "file_extension": ".py",
   "mimetype": "text/x-python",
   "name": "python",
   "nbconvert_exporter": "python",
   "pygments_lexer": "ipython3",
   "version": "3.10.13"
  },
  "papermill": {
   "default_parameters": {},
   "duration": 1577.999201,
   "end_time": "2024-08-18T14:27:00.867021",
   "environment_variables": {},
   "exception": null,
   "input_path": "__notebook__.ipynb",
   "output_path": "__notebook__.ipynb",
   "parameters": {},
   "start_time": "2024-08-18T14:00:42.867820",
   "version": "2.5.0"
  }
 },
 "nbformat": 4,
 "nbformat_minor": 5
}
